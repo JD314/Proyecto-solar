{
  "nbformat": 4,
  "nbformat_minor": 0,
  "metadata": {
    "colab": {
      "provenance": [],
      "authorship_tag": "ABX9TyNmfhWxe0mSuNIgpCLo7P/t",
      "include_colab_link": true
    },
    "kernelspec": {
      "name": "python3",
      "display_name": "Python 3"
    },
    "language_info": {
      "name": "python"
    }
  },
  "cells": [
    {
      "cell_type": "markdown",
      "metadata": {
        "id": "view-in-github",
        "colab_type": "text"
      },
      "source": [
        "<a href=\"https://colab.research.google.com/github/JD314/Proyecto-solar/blob/main/Helios.ipynb\" target=\"_parent\"><img src=\"https://colab.research.google.com/assets/colab-badge.svg\" alt=\"Open In Colab\"/></a>"
      ]
    },
    {
      "cell_type": "code",
      "execution_count": 22,
      "metadata": {
        "id": "Tw464PW1-lOT"
      },
      "outputs": [],
      "source": [
        "#Funciones para obtener los datos CME\n",
        "\n",
        "def get_lasco(year:str, month:str):\n",
        "    \"\"\"Get dataFrame of CME detected by Lasco catalog CACTUS of the giving date\n",
        "    # Update every five days\n",
        "    Arguments: year: str; month: str (in numeric format)\n",
        "    Example of expected arguments: Year= '2021', month= '04' \n",
        "    OUTPUT: DataFrame\"\"\"\n",
        "\n",
        "    import pandas as pd\n",
        "    import urllib.request\n",
        "\n",
        "    #Get data from Cactus cmecat.txt of this month\n",
        "    cactus = f'https://www.sidc.be/cactus/catalog/LASCO/2_5_0/qkl/{year}/{month}/cmecat.txt'\n",
        "\n",
        "    cmecat = urllib.request.urlopen(cactus)\n",
        "    lines = []\n",
        "\n",
        "    # -- Decodificar el txt --\n",
        "    for line in cmecat:\n",
        "        decoded_line = line.decode(\"utf-8\")\n",
        "        lines.append(decoded_line)\n",
        "\n",
        "    # -- Limpiar los datos -- \n",
        "    datos = lines[26: 26+lines[26:].index(' \\n')]    # Los datos inician en la fila 26 y terminan cuando aparece ' \\n'\n",
        "    data = {i: [j.replace('\\n', '').replace('?', '').replace('#', '') for j in datos[i].split('|')] for i in range(len(datos))}\n",
        "\n",
        "    # -- Crear dataframe auxiliar para corregir las columnas --\n",
        "    df_cme = pd.DataFrame.from_dict(data, orient='Index')\n",
        "    df_cme.columns = [df_cme.iloc[0][i].replace(' ', '') for i in range(df_cme.shape[1])] #Columsn tag are the first line, without spaces\n",
        "\n",
        "    lasco = pd.read_json(df_cme.iloc[1:].to_json()).set_index('CME') #Crear el dataframe cme\n",
        "    lasco['t0'] = pd.to_datetime(lasco.t0)\n",
        "    lasco.rename(columns={'t0':'time_tag'}, inplace=True)\n",
        "\n",
        "    return lasco\n",
        "\n",
        "def get_lasco_rt():\n",
        "    \"\"\"Get dataFrame of CME detected by Lasco near real time data\n",
        "    OUTPUT: DataFrame\"\"\"\n",
        "\n",
        "    import pandas as pd\n",
        "    import urllib.request\n",
        "    \n",
        "    cactus = 'https://www.sidc.be/cactus/out/cmecat.txt'\n",
        "    cmecat = urllib.request.urlopen(cactus)\n",
        "    lines = []\n",
        "\n",
        "    # -- Decodificar el txt --\n",
        "    for line in cmecat:\n",
        "        decoded_line = line.decode(\"utf-8\")\n",
        "        lines.append(decoded_line)\n",
        "\n",
        "    # -- Limpiar los datos -- \n",
        "    datos = lines[26: 26+lines[26:].index(' \\n')]    # Los datos inician en la fila 26 y terminan cuando aparece ' \\n'\n",
        "    data = {i: [j.replace('\\n', '').replace('?', '').replace('#', '') for j in datos[i].split('|')] for i in range(len(datos))}\n",
        "\n",
        "    # -- Crear dataframe auxiliar para corregir las columnas --\n",
        "    df_cme = pd.DataFrame.from_dict(data, orient='Index')\n",
        "    df_cme.columns = [df_cme.iloc[0][i].replace(' ', '') for i in range(df_cme.shape[1])] #Columsn tag are in the first line, without spaces\n",
        "\n",
        "    lasco = pd.read_json(df_cme.iloc[1:].to_json()).set_index('CME') #Crear el dataframe cme\n",
        "    lasco['t0'] = pd.to_datetime(lasco.t0)\n",
        "    lasco.rename(columns={'t0':'time_tag'}, inplace=True)\n",
        "    \n",
        "    return lasco\n",
        "\n",
        "#Funciones para obtener Xray\n",
        "def get_goes():\n",
        "    \"\"\"\"Get the 7 days-real time data from xray/goes 16\n",
        "    OUTPUT: DataFrame\"\"\"\n",
        "    url = 'https://services.swpc.noaa.gov/json/goes/primary/xrays-7-day.json'\n",
        "    xray = pd.read_json(url)\n",
        "\n",
        "    # -- Manejo de datos temporales --\n",
        "    xray.time_tag = xray['time_tag'].apply(lambda x: x.replace('T', ' ').replace('Z', ''))\n",
        "    xray.time_tag = pd.to_datetime(xray.time_tag)\n",
        "\n",
        "    return xray\n",
        "\n"
      ]
    },
    {
      "cell_type": "code",
      "source": [
        "from datetime import datetime\n",
        "import pandas as pd\n",
        "\n",
        "today = datetime.now()\n",
        "\n",
        "cme = get_lasco_rt()\n",
        "goes = get_goes()\n",
        "\n",
        "\n",
        "if today.day < 3:\n",
        "    \n",
        "    #si es inicio de mes tomar los datos de finales del mes pasado\n",
        "\n",
        "    last_date = today - pd.Timedelta(4,'d')\n",
        "    date = last_date.strftime(\"%Y-%m-%d\")\n",
        "    date = date.split('-')\n",
        "    year, month, day = date[0], date[1], date[2]\n",
        "\n",
        "    last_mont = get_lasco(year, month)\n",
        "    last_mont = last_mont[(last_mont.time_tag > last_date)]\n",
        "    \n",
        "    cme = pd.concat([cme, last_mont])\n",
        "\n",
        "# -- Append flux --\n",
        "cme.time_tag = pd.to_datetime(cme.time_tag)\n",
        "\n",
        "cme = cme[cme.da > 17]\n",
        "CME = cme.assign(flux=0.0)\n",
        "\n",
        "\n",
        "for index, row in CME.iterrows():\n",
        "\n",
        "    # -- iteración sobre cada CME --\n",
        "    cme = CME.loc[index] \n",
        "    time = cme.time_tag\n",
        "\n",
        "    #Tomar el xray flare con mayor flujo en el intervalo de tiempo que se da la EMC\n",
        "    cond = pd.Timedelta(cme.dt0/10,'h') # /10 se \"ajusta\"\n",
        "    time_min = time - cond\n",
        "    time_max = time + cond\n",
        "\n",
        "    intervalo = goes[(goes.time_tag > time_min) & (goes.time_tag < time_max)] #Intervalo de tiempo para tomar el max flux\n",
        "\n",
        "    flux = intervalo.flux.max()\n",
        "    CME.loc[index, 'flux'] = flux\n",
        "\n",
        "datos = CME[['flux', 'v', 'minv', 'maxv']]\n",
        "\n",
        "last_event = datos.tail(1)\n",
        "\n",
        "classifier.predict(last_event.to_numpy())"
      ],
      "metadata": {
        "colab": {
          "base_uri": "https://localhost:8080/",
          "height": 201
        },
        "id": "3_NVrJgPAZYh",
        "outputId": "c4aafc17-b92b-45fc-e019-3f525fa6f4a0"
      },
      "execution_count": 23,
      "outputs": [
        {
          "output_type": "error",
          "ename": "NameError",
          "evalue": "ignored",
          "traceback": [
            "\u001b[0;31m---------------------------------------------------------------------------\u001b[0m",
            "\u001b[0;31mNameError\u001b[0m                                 Traceback (most recent call last)",
            "\u001b[0;32m<ipython-input-23-96a3fe3e3276>\u001b[0m in \u001b[0;36m<module>\u001b[0;34m\u001b[0m\n\u001b[1;32m     49\u001b[0m \u001b[0mlast_event\u001b[0m \u001b[0;34m=\u001b[0m \u001b[0mdatos\u001b[0m\u001b[0;34m.\u001b[0m\u001b[0mtail\u001b[0m\u001b[0;34m(\u001b[0m\u001b[0;36m1\u001b[0m\u001b[0;34m)\u001b[0m\u001b[0;34m\u001b[0m\u001b[0;34m\u001b[0m\u001b[0m\n\u001b[1;32m     50\u001b[0m \u001b[0;34m\u001b[0m\u001b[0m\n\u001b[0;32m---> 51\u001b[0;31m \u001b[0mclassifier\u001b[0m\u001b[0;34m.\u001b[0m\u001b[0mpredict\u001b[0m\u001b[0;34m(\u001b[0m\u001b[0mlast_event\u001b[0m\u001b[0;34m.\u001b[0m\u001b[0mto_numpy\u001b[0m\u001b[0;34m(\u001b[0m\u001b[0;34m)\u001b[0m\u001b[0;34m)\u001b[0m\u001b[0;34m\u001b[0m\u001b[0;34m\u001b[0m\u001b[0m\n\u001b[0m",
            "\u001b[0;31mNameError\u001b[0m: name 'classifier' is not defined"
          ]
        }
      ]
    }
  ]
}