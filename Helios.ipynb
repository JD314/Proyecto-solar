{
  "nbformat": 4,
  "nbformat_minor": 0,
  "metadata": {
    "colab": {
      "provenance": [],
      "collapsed_sections": [],
      "authorship_tag": "ABX9TyN+SP9NrakAAjQZ72aq7mKz",
      "include_colab_link": true
    },
    "kernelspec": {
      "name": "python3",
      "display_name": "Python 3"
    },
    "language_info": {
      "name": "python"
    }
  },
  "cells": [
    {
      "cell_type": "markdown",
      "metadata": {
        "id": "view-in-github",
        "colab_type": "text"
      },
      "source": [
        "<a href=\"https://colab.research.google.com/github/JD314/Proyecto-solar/blob/main/Helios.ipynb\" target=\"_parent\"><img src=\"https://colab.research.google.com/assets/colab-badge.svg\" alt=\"Open In Colab\"/></a>"
      ]
    },
    {
      "cell_type": "markdown",
      "source": [
        "The board is available [here](https://bit.ly/3rsCVsU)"
      ],
      "metadata": {
        "id": "dS6oaq-qy3ud"
      }
    },
    {
      "cell_type": "markdown",
      "source": [
        "<h1>Helios</h1>"
      ],
      "metadata": {
        "id": "VpIzzszVTgVe"
      }
    },
    {
      "cell_type": "code",
      "source": [
        "!wget https://raw.githubusercontent.com/JD314/Proyecto-solar/main/training.json"
      ],
      "metadata": {
        "colab": {
          "base_uri": "https://localhost:8080/"
        },
        "id": "y-nPov2BItxu",
        "outputId": "ad005c7e-c293-41b7-e30e-aa379d716e42"
      },
      "execution_count": null,
      "outputs": [
        {
          "output_type": "stream",
          "name": "stdout",
          "text": [
            "--2022-10-03 14:40:27--  https://raw.githubusercontent.com/JD314/Proyecto-solar/main/training.json\n",
            "Resolving raw.githubusercontent.com (raw.githubusercontent.com)... 185.199.108.133, 185.199.109.133, 185.199.110.133, ...\n",
            "Connecting to raw.githubusercontent.com (raw.githubusercontent.com)|185.199.108.133|:443... connected.\n",
            "HTTP request sent, awaiting response... 200 OK\n",
            "Length: 27015 (26K) [text/plain]\n",
            "Saving to: ‘training.json’\n",
            "\n",
            "\rtraining.json         0%[                    ]       0  --.-KB/s               \rtraining.json       100%[===================>]  26.38K  --.-KB/s    in 0.002s  \n",
            "\n",
            "2022-10-03 14:40:28 (15.3 MB/s) - ‘training.json’ saved [27015/27015]\n",
            "\n"
          ]
        }
      ]
    },
    {
      "cell_type": "markdown",
      "source": [
        "#Train the model\n",
        "\n",
        "We used the Sklearn module to apply a random forest algorithm in order to categorize the data into geomagnetic storm levels proposed by the NOA according to the KP intensity index."
      ],
      "metadata": {
        "id": "i_nykNarL5uh"
      }
    },
    {
      "cell_type": "code",
      "source": [
        "from sklearn.model_selection import train_test_split\n",
        "from sklearn.ensemble import RandomForestClassifier\n",
        "from sklearn.metrics import accuracy_score\n",
        "from sklearn.preprocessing import StandardScaler\n",
        "from sklearn.linear_model import LinearRegression\n",
        "\n",
        "from joblib import dump\n",
        "import pandas as pd\n",
        "\n",
        "cme = pd.read_json(r'/content/training.json')\n",
        "\n",
        "x = cme[['flux', 'v', 'minv', 'maxv' ]]\n",
        "y = cme[\"Kp\"]\n",
        "\n",
        "\n",
        "#scaler = StandardScaler()\n",
        "\n",
        "x_scaled = x #scaler.fit_transform(x)\n",
        "\n",
        "x_train,x_test, y_train, y_test = train_test_split(x_scaled, y, stratify=y, test_size=0.10, random_state=8)\n",
        "\n",
        "classifier = RandomForestClassifier(n_estimators=100)\n",
        "classifier.fit(x_train, y_train)\n",
        "\n",
        "y_pred = classifier.predict(x_test)\n",
        "\n",
        "print(\"Precision:\", accuracy_score(y_test,y_pred))"
      ],
      "metadata": {
        "id": "VLBoGARgL5bd",
        "colab": {
          "base_uri": "https://localhost:8080/"
        },
        "outputId": "4bddb586-94b5-4835-d84a-eca1237fdf9a"
      },
      "execution_count": null,
      "outputs": [
        {
          "output_type": "stream",
          "name": "stdout",
          "text": [
            "Precision: 0.5263157894736842\n"
          ]
        }
      ]
    },
    {
      "cell_type": "markdown",
      "source": [
        "#Real time\n"
      ],
      "metadata": {
        "id": "KXXTdkeML3Jw"
      }
    },
    {
      "cell_type": "code",
      "execution_count": null,
      "metadata": {
        "id": "Tw464PW1-lOT"
      },
      "outputs": [],
      "source": [
        "# Functions to obtain near real time data from Goes 16 and Lasco\n",
        "\n",
        "def get_lasco(year:str, month:str):\n",
        "    \"\"\"Get dataFrame of CME detected by Lasco catalog CACTUS of the giving date\n",
        "    # Update every five days\n",
        "    Arguments: year: str; month: str (in numeric format)\n",
        "    Example of expected arguments: Year= '2021', month= '04' \n",
        "    OUTPUT: DataFrame\"\"\"\n",
        "\n",
        "    import pandas as pd\n",
        "    import urllib.request\n",
        "\n",
        "    #Get data from Cactus cmecat.txt of this month\n",
        "    cactus = f'https://www.sidc.be/cactus/catalog/LASCO/2_5_0/qkl/{year}/{month}/cmecat.txt'\n",
        "\n",
        "    cmecat = urllib.request.urlopen(cactus)\n",
        "    lines = []\n",
        "\n",
        "    # -- Decodificar el txt --\n",
        "    for line in cmecat:\n",
        "        decoded_line = line.decode(\"utf-8\")\n",
        "        lines.append(decoded_line)\n",
        "\n",
        "    # -- Limpiar los datos -- \n",
        "    datos = lines[26: 26+lines[26:].index(' \\n')]    # Los datos inician en la fila 26 y terminan cuando aparece ' \\n'\n",
        "    data = {i: [j.replace('\\n', '').replace('?', '').replace('#', '') for j in datos[i].split('|')] for i in range(len(datos))}\n",
        "\n",
        "    # -- Crear dataframe auxiliar para corregir las columnas --\n",
        "    df_cme = pd.DataFrame.from_dict(data, orient='Index')\n",
        "    df_cme.columns = [df_cme.iloc[0][i].replace(' ', '') for i in range(df_cme.shape[1])] #Columsn tag are the first line, without spaces\n",
        "\n",
        "    lasco = pd.read_json(df_cme.iloc[1:].to_json()).set_index('CME') #Crear el dataframe cme\n",
        "    lasco['t0'] = pd.to_datetime(lasco.t0)\n",
        "    lasco.rename(columns={'t0':'time_tag'}, inplace=True)\n",
        "\n",
        "    return lasco\n",
        "\n",
        "def get_lasco_rt():\n",
        "    \"\"\"Get dataFrame of CME detected by Lasco near real time data\n",
        "    OUTPUT: DataFrame\"\"\"\n",
        "\n",
        "    import pandas as pd\n",
        "    import urllib.request\n",
        "    \n",
        "    cactus = 'https://www.sidc.be/cactus/out/cmecat.txt'\n",
        "    cmecat = urllib.request.urlopen(cactus)\n",
        "    lines = []\n",
        "\n",
        "    # -- Decodificar el txt --\n",
        "    for line in cmecat:\n",
        "        decoded_line = line.decode(\"utf-8\")\n",
        "        lines.append(decoded_line)\n",
        "\n",
        "    # -- Limpiar los datos -- \n",
        "    datos = lines[26: 26+lines[26:].index(' \\n')]    # Los datos inician en la fila 26 y terminan cuando aparece ' \\n'\n",
        "    data = {i: [j.replace('\\n', '').replace('?', '').replace('#', '') for j in datos[i].split('|')] for i in range(len(datos))}\n",
        "\n",
        "    # -- Crear dataframe auxiliar para corregir las columnas --\n",
        "    df_cme = pd.DataFrame.from_dict(data, orient='Index')\n",
        "    df_cme.columns = [df_cme.iloc[0][i].replace(' ', '') for i in range(df_cme.shape[1])] #Columsn tag are in the first line, without spaces\n",
        "\n",
        "    lasco = pd.read_json(df_cme.iloc[1:].to_json()).set_index('CME') #Crear el dataframe cme\n",
        "    lasco['t0'] = pd.to_datetime(lasco.t0)\n",
        "    lasco.rename(columns={'t0':'time_tag'}, inplace=True)\n",
        "    \n",
        "    return lasco\n",
        "\n",
        "#Funciones para obtener Xray\n",
        "def get_goes():\n",
        "    \"\"\"\"Get the 7 days-real time data from xray/goes 16\n",
        "    OUTPUT: DataFrame\"\"\"\n",
        "    url = 'https://services.swpc.noaa.gov/json/goes/primary/xrays-7-day.json'\n",
        "    xray = pd.read_json(url)\n",
        "\n",
        "    # -- Manejo de datos temporales --\n",
        "    xray.time_tag = xray['time_tag'].apply(lambda x: x.replace('T', ' ').replace('Z', ''))\n",
        "    xray.time_tag = pd.to_datetime(xray.time_tag)\n",
        "\n",
        "    return xray\n",
        "\n"
      ]
    },
    {
      "cell_type": "code",
      "source": [
        "\n",
        "from datetime import datetime\n",
        "import pandas as pd\n",
        "\n",
        "\n",
        "today = datetime.now()\n",
        "\n",
        "#Get the real time data\n",
        "cme = get_lasco_rt()\n",
        "goes = get_goes()\n",
        "\n",
        "\n",
        "if today.day < 3: #if it is the beginning of the month take data from the end of last month \n",
        "    \n",
        "    last_date = today - pd.Timedelta(4,'d') #today - 4 days\n",
        "\n",
        "    date = last_date.strftime(\"%Y-%m-%d\")\n",
        "    date = date.split('-')\n",
        "    year, month, day = date[0], date[1], date[2]\n",
        "\n",
        "    last_mont = get_lasco(year, month) #get the data from the last moth with lasco\n",
        "    last_mont = last_mont[(last_mont.time_tag > last_date)]\n",
        "    \n",
        "    cme = pd.concat([cme, last_mont]) #Append the last month register to Data\n",
        "\n",
        "# -- Append flux --\n",
        "cme.time_tag = pd.to_datetime(cme.time_tag)\n",
        "\n",
        "cme = cme[cme.da > 170] #Take the big CME detected by Lasco\n",
        "CME = cme.assign(flux=0.0)\n",
        "\n",
        "\n",
        "for index, row in CME.iterrows(): #iterate over all data to fill missing fields\n",
        "\n",
        "    # -- iteración sobre cada CME --\n",
        "    cme = CME.loc[index] \n",
        "    time = cme.time_tag\n",
        "\n",
        "    #Tomar el xray flare con mayor flujo en el intervalo de tiempo que se da la EMC\n",
        "    cond = pd.Timedelta(cme.dt0/10,'h') # /10 se \"ajusta\"\n",
        "    time_min = time - cond\n",
        "    time_max = time + cond\n",
        "\n",
        "    intervalo = goes[(goes.time_tag > time_min) & (goes.time_tag < time_max)] #Intervalo de tiempo para tomar el max flux\n",
        "\n",
        "    # -- Append flux and prediction --\n",
        "    flux = intervalo.flux.max()\n",
        "    CME.loc[index, 'flux'] = flux\n",
        "\n",
        "    datos = CME[['flux', 'v', 'minv', 'maxv']]\n",
        "\n",
        "    last_event = datos.tail(1)\n",
        "\n",
        "    CME.loc[index, 'kp'] = classifier.predict(last_event.to_numpy())[0]\n",
        "\n"
      ],
      "metadata": {
        "id": "3_NVrJgPAZYh"
      },
      "execution_count": null,
      "outputs": []
    },
    {
      "cell_type": "markdown",
      "source": [
        "#References"
      ],
      "metadata": {
        "id": "_VyFGQlnWlb3"
      }
    },
    {
      "cell_type": "markdown",
      "source": [
        "<h3>Data Usage</h3>\n",
        "\n",
        "[Automated detection of CMEs in LASCO data](https://ui.adsabs.harvard.edu/abs/2004A%26A...425.1097R/abstract) Berghmans, D.; Foing, B. H.; Fleck, B.<br>\n",
        "\n",
        "[DSCOVR real time solar wind](https://www.swpc.noaa.gov/products/real-time-solar-wind)\n",
        "\n",
        "[Goes Xray real time](https://www.swpc.noaa.gov/products/goes-x-ray-flux)\n",
        "   "
      ],
      "metadata": {
        "id": "HKlAUsnyWxl5"
      }
    }
  ]
}