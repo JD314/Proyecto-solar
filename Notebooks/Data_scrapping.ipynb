{
 "cells": [
  {
   "cell_type": "markdown",
   "metadata": {},
   "source": [
    "<p><img alt=\"Nasa Space Apps Logo\" width=\"140\" height=\"140\" src=\"https://www.nasa.gov/wp-content/uploads/2021/07/space_apps_003.png\" align=\"left\" hspace=\"15px\" ></p>\n",
    "\n",
    "\n",
    "<h1>Helios</h1>\n",
    "\n",
    "----\n",
    "<p> <b>Challenge: </b>Save the Earth from another Carrington Event!</p>\n",
    "<div align=\"right\">\n",
    "<font size=3>\n",
    " <br><br>\n",
    "  \n",
    "</font>\n",
    "</div>"
   ]
  },
  {
   "cell_type": "markdown",
   "metadata": {},
   "source": [
    "\n",
    "\n",
    "[See More](https://www.youtube.com/watch?v=m_pDSJive-E&embeds_referring_euri=https%3A%2F%2F2022.spaceappschallenge.org%2F&source_ve_path=Mjg2NjY&feature=emb_logo)"
   ]
  },
  {
   "cell_type": "markdown",
   "metadata": {},
   "source": [
    "## Data Scrapping"
   ]
  },
  {
   "cell_type": "markdown",
   "metadata": {},
   "source": [
    "\n",
    "The Large Angle and Spectrometric Coronagraph (LASCO) is a suite of three solar coronagraphs onboard the Solar and Heliospheric Observatory (SOHO) satellite, which continuously observe the solar corona and provide crucial data for studying coronal mass ejections (CMEs). The LASCO instrument includes a Fabry-Pérot interferometer coronagraph (C1) and two white light coronagraphs (C2 and C3) that image the corona at different distances from the Sun. In your project, you plan to utilize the CACTUS (Computer Aided CME Tracking Software) tool, which autonomously detects and tracks CMEs in the LASCO image sequences. CACTUS provides a list of detected CME events, including their principal angle, angular width, and velocity estimates, allowing for faster and more objective identification of potentially dangerous CMEs compared to manual catalogs. By analyzing the CACTUS output based on the LASCO data, you can gain valuable insights into the frequency, properties, and potential impacts of CMEs that could pose a threat to the Earth and space-based systems, enabling you to develop strategies for mitigating these risks.\n",
    "\n",
    "[More info about Lasco](https://www.swpc.noaa.gov/products/lasco-coronagraph)\n",
    "<br>\n",
    "[More info about Cactus](https://www.sidc.be/cactus/)"
   ]
  },
  {
   "cell_type": "markdown",
   "metadata": {},
   "source": [
    "**Import required modules**"
   ]
  },
  {
   "cell_type": "code",
   "execution_count": 1,
   "metadata": {},
   "outputs": [],
   "source": [
    "import pandas as pd\n",
    "import urllib.request"
   ]
  },
  {
   "cell_type": "markdown",
   "metadata": {},
   "source": [
    " We utilize the CACTUS package to autonomously identify coronal mass ejections (CMEs) within image sequences obtained from LASCO. By leveraging this package, we generate a comprehensive list of CME events akin to traditional catalogs. This list includes crucial parameters such as principal angle, angular width, and velocity estimation for each detected CME. Unlike manual assembly by human operators, our software-driven approach offers significant advantages. It enables faster detection, a critical factor in the realm of space weather monitoring. Additionally, the automated detection criteria encoded within the software promotes objectivity in the identification process, ensuring consistent and reliable results."
   ]
  },
  {
   "cell_type": "code",
   "execution_count": null,
   "metadata": {},
   "outputs": [],
   "source": []
  },
  {
   "cell_type": "code",
   "execution_count": null,
   "metadata": {},
   "outputs": [],
   "source": [
    "def get_lasco(year:str, month:str):\n",
    "    \"\"\"Get dataFrame of CME detected by Lasco catalog CACTUS of the giving date\n",
    "    # Update every five days\n",
    "    Arguments: year: str; month: str (in numeric format)\n",
    "    Example of expected arguments: Year= '2021', month= '04' \n",
    "    OUTPUT: DataFrame\"\"\"\n",
    "\n",
    "\n",
    "    #Get data from Cactus cmecat.txt of this month\n",
    "    cactus = f'https://www.sidc.be/cactus/catalog/LASCO/2_5_0/qkl/{year}/{month}/cmecat.txt'\n",
    "\n",
    "    cmecat = urllib.request.urlopen(cactus)\n",
    "    lines = []\n",
    "\n",
    "    # -- Decodificar el txt --\n",
    "    for line in cmecat:\n",
    "        decoded_line = line.decode(\"utf-8\")\n",
    "        lines.append(decoded_line)\n",
    "\n",
    "    # -- Limpiar los datos -- \n",
    "    datos = lines[26: 26+lines[26:].index(' \\n')]    # Los datos inician en la fila 26 y terminan cuando aparece ' \\n'\n",
    "    data = {i: [j.replace('\\n', '').replace('?', '').replace('#', '') for j in datos[i].split('|')] for i in range(len(datos))}\n",
    "\n",
    "    # -- Crear dataframe auxiliar para corregir las columnas --\n",
    "    df_cme = pd.DataFrame.from_dict(data, orient='Index')\n",
    "    df_cme.columns = [df_cme.iloc[0][i].replace(' ', '') for i in range(df_cme.shape[1])] #Columsn tag are the first line, without spaces\n",
    "\n",
    "    lasco = pd.read_json(df_cme.iloc[1:].to_json()).set_index('CME') #Crear el dataframe cme\n",
    "    lasco['t0'] = pd.to_datetime(lasco.t0)\n",
    "    lasco.rename(columns={'t0':'time_tag'}, inplace=True)\n",
    "\n",
    "    return lasco\n"
   ]
  },
  {
   "cell_type": "code",
   "execution_count": null,
   "metadata": {},
   "outputs": [],
   "source": [
    "\n",
    "\n",
    "def get_lasco_rt():\n",
    "    \"\"\"Get dataFrame of CME detected by Lasco near real time data\n",
    "    OUTPUT: DataFrame\"\"\"\n",
    "\n",
    "    import pandas as pd\n",
    "    import urllib.request\n",
    "    \n",
    "    cactus = 'https://www.sidc.be/cactus/out/cmecat.txt'\n",
    "    cmecat = urllib.request.urlopen(cactus)\n",
    "    lines = []\n",
    "\n",
    "    # -- Decodificar el txt --\n",
    "    for line in cmecat:\n",
    "        decoded_line = line.decode(\"utf-8\")\n",
    "        lines.append(decoded_line)\n",
    "\n",
    "    # -- Limpiar los datos -- \n",
    "    datos = lines[26: 26+lines[26:].index(' \\n')]    # Los datos inician en la fila 26 y terminan cuando aparece ' \\n'\n",
    "    data = {i: [j.replace('\\n', '').replace('?', '').replace('#', '') for j in datos[i].split('|')] for i in range(len(datos))}\n",
    "\n",
    "    # -- Crear dataframe auxiliar para corregir las columnas --\n",
    "    df_cme = pd.DataFrame.from_dict(data, orient='Index')\n",
    "    df_cme.columns = [df_cme.iloc[0][i].replace(' ', '') for i in range(df_cme.shape[1])] #Columsn tag are in the first line, without spaces\n",
    "\n",
    "    lasco = pd.read_json(df_cme.iloc[1:].to_json()).set_index('CME') #Crear el dataframe cme\n",
    "    lasco['t0'] = pd.to_datetime(lasco.t0)\n",
    "    lasco.rename(columns={'t0':'time_tag'}, inplace=True)\n",
    "    \n",
    "    return lasco\n",
    "\n",
    "#Funciones para obtener Xray\n",
    "def get_goes():\n",
    "    \"\"\"\"Get the 7 days-real time data from xray/goes 16\n",
    "    OUTPUT: DataFrame\"\"\"\n",
    "    url = 'https://services.swpc.noaa.gov/json/goes/primary/xrays-7-day.json'\n",
    "    xray = pd.read_json(url)\n",
    "\n",
    "    # -- Manejo de datos temporales --\n",
    "    xray.time_tag = xray['time_tag'].apply(lambda x: x.replace('T', ' ').replace('Z', ''))\n",
    "    xray.time_tag = pd.to_datetime(xray.time_tag)\n",
    "\n",
    "    return xray\n",
    "\n"
   ]
  },
  {
   "cell_type": "markdown",
   "metadata": {},
   "source": [
    "\n",
    "<h3>Data Usage</h3>\n",
    "\n",
    "[Automated detection of CMEs in LASCO data](https://ui.adsabs.harvard.edu/abs/2004A%26A...425.1097R/abstract) Berghmans, D.; Foing, B. H.; Fleck, B.<br>\n",
    "\n",
    "[DSCOVR real time solar wind](https://www.swpc.noaa.gov/products/real-time-solar-wind)\n",
    "\n",
    "[Goes Xray real time](https://www.swpc.noaa.gov/products/goes-x-ray-flux)\n",
    "   "
   ]
  }
 ],
 "metadata": {
  "kernelspec": {
   "display_name": "Python 3",
   "language": "python",
   "name": "python3"
  },
  "language_info": {
   "codemirror_mode": {
    "name": "ipython",
    "version": 3
   },
   "file_extension": ".py",
   "mimetype": "text/x-python",
   "name": "python",
   "nbconvert_exporter": "python",
   "pygments_lexer": "ipython3",
   "version": "3.10.1"
  }
 },
 "nbformat": 4,
 "nbformat_minor": 2
}
