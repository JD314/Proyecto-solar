{
  "nbformat": 4,
  "nbformat_minor": 0,
  "metadata": {
    "colab": {
      "provenance": [],
      "collapsed_sections": [],
      "include_colab_link": true
    },
    "kernelspec": {
      "name": "python3",
      "display_name": "Python 3"
    },
    "language_info": {
      "name": "python"
    }
  },
  "cells": [
    {
      "cell_type": "markdown",
      "metadata": {
        "id": "view-in-github",
        "colab_type": "text"
      },
      "source": [
        "<a href=\"https://colab.research.google.com/github/JD314/Proyecto-solar/blob/main/Proyecto_solar.ipynb\" target=\"_parent\"><img src=\"https://colab.research.google.com/assets/colab-badge.svg\" alt=\"Open In Colab\"/></a>"
      ]
    },
    {
      "cell_type": "markdown",
      "source": [
        "<p><img alt = 'Nasa Space App Challenge' src = 'http://www.nasa.gov/sites/default/files/thumbnails/image/space_apps_003.png' height='130px' align=\"left\" hspace=\"15px\" ></img>\n",
        "</p>\n",
        "\n",
        "\n",
        "<h1>En qué nos metimos?</h1>\n",
        "<div align='right'>Nasa Space Apps Challenge\n",
        "</div>\n"
      ],
      "metadata": {
        "id": "5G-lhfhSi6iL"
      }
    },
    {
      "cell_type": "markdown",
      "source": [
        "Algunos enlaces \n",
        "\n",
        "[Nasa Open Software](https://code.nasa.gov/#/experiments) <br>\n",
        "\n",
        "[Space Weather](https://www.spaceweatherlive.com/es.html) <br>\n",
        "\n",
        "[parker solar](https://parker.gsfc.nasa.gov/model_ENLIL.html)<br>\n",
        "[?](https://www.swpc.noaa.gov/products/wsa-enlil-solar-wind-prediction) <br>\n",
        "\n",
        "DSCVR - GOES 16 <br>\n",
        "[DSCVR web page](https://www.ngdc.noaa.gov/dscovr/portal/#/) <br>\n",
        "[Goes](https://www.swpc.noaa.gov/products/goes-x-ray-flux) <br>\n",
        "[DSCVER data](https://www.swpc.noaa.gov/products/real-time-solar-wind) <br>\n"
      ],
      "metadata": {
        "id": "QWyQyM4ev56s"
      }
    },
    {
      "cell_type": "code",
      "source": [
        "https://solarham.net/kp.htm\n"
      ],
      "metadata": {
        "id": "sqKAWkVx9Mie"
      },
      "execution_count": null,
      "outputs": []
    },
    {
      "cell_type": "code",
      "execution_count": null,
      "metadata": {
        "id": "kqfEj9DrNbaK"
      },
      "outputs": [],
      "source": [
        "import pandas as pd\n",
        "import seaborn as sns"
      ]
    },
    {
      "cell_type": "markdown",
      "source": [
        "#Goes\n",
        "Este es el que mide fulguraciones\n",
        "[Goes](https://www.swpc.noaa.gov/products/goes-x-ray-flux)"
      ],
      "metadata": {
        "id": "0ve4cImfkJBU"
      }
    },
    {
      "cell_type": "code",
      "source": [
        "diferential_electrones_1_day = 'https://services.swpc.noaa.gov/json/goes/primary/differential-electrons-1-day.json' #Se puede cambiar el 1 por un 7 y obtener los de 7 días\n",
        "\n",
        "dif_elec = pd.read_json(diferential_electrones_1_day)\n",
        "dif_elec.tail()"
      ],
      "metadata": {
        "colab": {
          "base_uri": "https://localhost:8080/",
          "height": 206
        },
        "id": "dKvBcaTXSkaV",
        "outputId": "4dd46518-fec1-4706-abb2-13cb245d96a2"
      },
      "execution_count": 24,
      "outputs": [
        {
          "output_type": "execute_result",
          "data": {
            "text/plain": [
              "                  time_tag  satellite        flux        energy\n",
              "2751  2022-09-05T02:50:00Z         16    1.882946   235-340 keV\n",
              "2752  2022-09-05T02:50:00Z         16    0.692964   340-500 keV\n",
              "2753  2022-09-05T02:50:00Z         16    0.141370   500-700 keV\n",
              "2754  2022-09-05T02:50:00Z         16    0.073258  700-1000 keV\n",
              "2755  2022-09-05T02:50:00Z         16  281.293976    80-115 keV"
            ],
            "text/html": [
              "\n",
              "  <div id=\"df-0a7523a0-9962-4295-86ad-33dee72bf87b\">\n",
              "    <div class=\"colab-df-container\">\n",
              "      <div>\n",
              "<style scoped>\n",
              "    .dataframe tbody tr th:only-of-type {\n",
              "        vertical-align: middle;\n",
              "    }\n",
              "\n",
              "    .dataframe tbody tr th {\n",
              "        vertical-align: top;\n",
              "    }\n",
              "\n",
              "    .dataframe thead th {\n",
              "        text-align: right;\n",
              "    }\n",
              "</style>\n",
              "<table border=\"1\" class=\"dataframe\">\n",
              "  <thead>\n",
              "    <tr style=\"text-align: right;\">\n",
              "      <th></th>\n",
              "      <th>time_tag</th>\n",
              "      <th>satellite</th>\n",
              "      <th>flux</th>\n",
              "      <th>energy</th>\n",
              "    </tr>\n",
              "  </thead>\n",
              "  <tbody>\n",
              "    <tr>\n",
              "      <th>2751</th>\n",
              "      <td>2022-09-05T02:50:00Z</td>\n",
              "      <td>16</td>\n",
              "      <td>1.882946</td>\n",
              "      <td>235-340 keV</td>\n",
              "    </tr>\n",
              "    <tr>\n",
              "      <th>2752</th>\n",
              "      <td>2022-09-05T02:50:00Z</td>\n",
              "      <td>16</td>\n",
              "      <td>0.692964</td>\n",
              "      <td>340-500 keV</td>\n",
              "    </tr>\n",
              "    <tr>\n",
              "      <th>2753</th>\n",
              "      <td>2022-09-05T02:50:00Z</td>\n",
              "      <td>16</td>\n",
              "      <td>0.141370</td>\n",
              "      <td>500-700 keV</td>\n",
              "    </tr>\n",
              "    <tr>\n",
              "      <th>2754</th>\n",
              "      <td>2022-09-05T02:50:00Z</td>\n",
              "      <td>16</td>\n",
              "      <td>0.073258</td>\n",
              "      <td>700-1000 keV</td>\n",
              "    </tr>\n",
              "    <tr>\n",
              "      <th>2755</th>\n",
              "      <td>2022-09-05T02:50:00Z</td>\n",
              "      <td>16</td>\n",
              "      <td>281.293976</td>\n",
              "      <td>80-115 keV</td>\n",
              "    </tr>\n",
              "  </tbody>\n",
              "</table>\n",
              "</div>\n",
              "      <button class=\"colab-df-convert\" onclick=\"convertToInteractive('df-0a7523a0-9962-4295-86ad-33dee72bf87b')\"\n",
              "              title=\"Convert this dataframe to an interactive table.\"\n",
              "              style=\"display:none;\">\n",
              "        \n",
              "  <svg xmlns=\"http://www.w3.org/2000/svg\" height=\"24px\"viewBox=\"0 0 24 24\"\n",
              "       width=\"24px\">\n",
              "    <path d=\"M0 0h24v24H0V0z\" fill=\"none\"/>\n",
              "    <path d=\"M18.56 5.44l.94 2.06.94-2.06 2.06-.94-2.06-.94-.94-2.06-.94 2.06-2.06.94zm-11 1L8.5 8.5l.94-2.06 2.06-.94-2.06-.94L8.5 2.5l-.94 2.06-2.06.94zm10 10l.94 2.06.94-2.06 2.06-.94-2.06-.94-.94-2.06-.94 2.06-2.06.94z\"/><path d=\"M17.41 7.96l-1.37-1.37c-.4-.4-.92-.59-1.43-.59-.52 0-1.04.2-1.43.59L10.3 9.45l-7.72 7.72c-.78.78-.78 2.05 0 2.83L4 21.41c.39.39.9.59 1.41.59.51 0 1.02-.2 1.41-.59l7.78-7.78 2.81-2.81c.8-.78.8-2.07 0-2.86zM5.41 20L4 18.59l7.72-7.72 1.47 1.35L5.41 20z\"/>\n",
              "  </svg>\n",
              "      </button>\n",
              "      \n",
              "  <style>\n",
              "    .colab-df-container {\n",
              "      display:flex;\n",
              "      flex-wrap:wrap;\n",
              "      gap: 12px;\n",
              "    }\n",
              "\n",
              "    .colab-df-convert {\n",
              "      background-color: #E8F0FE;\n",
              "      border: none;\n",
              "      border-radius: 50%;\n",
              "      cursor: pointer;\n",
              "      display: none;\n",
              "      fill: #1967D2;\n",
              "      height: 32px;\n",
              "      padding: 0 0 0 0;\n",
              "      width: 32px;\n",
              "    }\n",
              "\n",
              "    .colab-df-convert:hover {\n",
              "      background-color: #E2EBFA;\n",
              "      box-shadow: 0px 1px 2px rgba(60, 64, 67, 0.3), 0px 1px 3px 1px rgba(60, 64, 67, 0.15);\n",
              "      fill: #174EA6;\n",
              "    }\n",
              "\n",
              "    [theme=dark] .colab-df-convert {\n",
              "      background-color: #3B4455;\n",
              "      fill: #D2E3FC;\n",
              "    }\n",
              "\n",
              "    [theme=dark] .colab-df-convert:hover {\n",
              "      background-color: #434B5C;\n",
              "      box-shadow: 0px 1px 3px 1px rgba(0, 0, 0, 0.15);\n",
              "      filter: drop-shadow(0px 1px 2px rgba(0, 0, 0, 0.3));\n",
              "      fill: #FFFFFF;\n",
              "    }\n",
              "  </style>\n",
              "\n",
              "      <script>\n",
              "        const buttonEl =\n",
              "          document.querySelector('#df-0a7523a0-9962-4295-86ad-33dee72bf87b button.colab-df-convert');\n",
              "        buttonEl.style.display =\n",
              "          google.colab.kernel.accessAllowed ? 'block' : 'none';\n",
              "\n",
              "        async function convertToInteractive(key) {\n",
              "          const element = document.querySelector('#df-0a7523a0-9962-4295-86ad-33dee72bf87b');\n",
              "          const dataTable =\n",
              "            await google.colab.kernel.invokeFunction('convertToInteractive',\n",
              "                                                     [key], {});\n",
              "          if (!dataTable) return;\n",
              "\n",
              "          const docLinkHtml = 'Like what you see? Visit the ' +\n",
              "            '<a target=\"_blank\" href=https://colab.research.google.com/notebooks/data_table.ipynb>data table notebook</a>'\n",
              "            + ' to learn more about interactive tables.';\n",
              "          element.innerHTML = '';\n",
              "          dataTable['output_type'] = 'display_data';\n",
              "          await google.colab.output.renderOutput(dataTable, element);\n",
              "          const docLink = document.createElement('div');\n",
              "          docLink.innerHTML = docLinkHtml;\n",
              "          element.appendChild(docLink);\n",
              "        }\n",
              "      </script>\n",
              "    </div>\n",
              "  </div>\n",
              "  "
            ]
          },
          "metadata": {},
          "execution_count": 24
        }
      ]
    },
    {
      "cell_type": "code",
      "source": [
        "diferential_protons_1_day = 'https://services.swpc.noaa.gov/json/goes/primary/differential-protons-1-day.json'\n",
        "dif_prot = pd.read_json(diferential_protons_1_day)\n",
        "dif_prot.tail()"
      ],
      "metadata": {
        "colab": {
          "base_uri": "https://localhost:8080/",
          "height": 206
        },
        "id": "P_uvd2UmllgK",
        "outputId": "88561013-c754-4ef7-b326-a0d3bc0dda93"
      },
      "execution_count": 25,
      "outputs": [
        {
          "output_type": "execute_result",
          "data": {
            "text/plain": [
              "                  time_tag  satellite          flux            energy  \\\n",
              "3726  2022-09-05T02:50:00Z         16  1.082251e-05     3400-6480 keV   \n",
              "3727  2022-09-05T02:50:00Z         16  1.049043e-06   40300-73400 keV   \n",
              "3728  2022-09-05T02:50:00Z         16  1.174536e-05    5840-11000 keV   \n",
              "3729  2022-09-05T02:50:00Z         16  5.927274e-07   83700-98500 keV   \n",
              "3730  2022-09-05T02:50:00Z         16  1.280339e-06  99900-118000 keV   \n",
              "\n",
              "      yaw_flip channel  \n",
              "3726         0      P3  \n",
              "3727         0      P7  \n",
              "3728         0      P4  \n",
              "3729         0     P8A  \n",
              "3730         0     P8B  "
            ],
            "text/html": [
              "\n",
              "  <div id=\"df-e6b8ca70-f138-432c-b687-0e05914da1a3\">\n",
              "    <div class=\"colab-df-container\">\n",
              "      <div>\n",
              "<style scoped>\n",
              "    .dataframe tbody tr th:only-of-type {\n",
              "        vertical-align: middle;\n",
              "    }\n",
              "\n",
              "    .dataframe tbody tr th {\n",
              "        vertical-align: top;\n",
              "    }\n",
              "\n",
              "    .dataframe thead th {\n",
              "        text-align: right;\n",
              "    }\n",
              "</style>\n",
              "<table border=\"1\" class=\"dataframe\">\n",
              "  <thead>\n",
              "    <tr style=\"text-align: right;\">\n",
              "      <th></th>\n",
              "      <th>time_tag</th>\n",
              "      <th>satellite</th>\n",
              "      <th>flux</th>\n",
              "      <th>energy</th>\n",
              "      <th>yaw_flip</th>\n",
              "      <th>channel</th>\n",
              "    </tr>\n",
              "  </thead>\n",
              "  <tbody>\n",
              "    <tr>\n",
              "      <th>3726</th>\n",
              "      <td>2022-09-05T02:50:00Z</td>\n",
              "      <td>16</td>\n",
              "      <td>1.082251e-05</td>\n",
              "      <td>3400-6480 keV</td>\n",
              "      <td>0</td>\n",
              "      <td>P3</td>\n",
              "    </tr>\n",
              "    <tr>\n",
              "      <th>3727</th>\n",
              "      <td>2022-09-05T02:50:00Z</td>\n",
              "      <td>16</td>\n",
              "      <td>1.049043e-06</td>\n",
              "      <td>40300-73400 keV</td>\n",
              "      <td>0</td>\n",
              "      <td>P7</td>\n",
              "    </tr>\n",
              "    <tr>\n",
              "      <th>3728</th>\n",
              "      <td>2022-09-05T02:50:00Z</td>\n",
              "      <td>16</td>\n",
              "      <td>1.174536e-05</td>\n",
              "      <td>5840-11000 keV</td>\n",
              "      <td>0</td>\n",
              "      <td>P4</td>\n",
              "    </tr>\n",
              "    <tr>\n",
              "      <th>3729</th>\n",
              "      <td>2022-09-05T02:50:00Z</td>\n",
              "      <td>16</td>\n",
              "      <td>5.927274e-07</td>\n",
              "      <td>83700-98500 keV</td>\n",
              "      <td>0</td>\n",
              "      <td>P8A</td>\n",
              "    </tr>\n",
              "    <tr>\n",
              "      <th>3730</th>\n",
              "      <td>2022-09-05T02:50:00Z</td>\n",
              "      <td>16</td>\n",
              "      <td>1.280339e-06</td>\n",
              "      <td>99900-118000 keV</td>\n",
              "      <td>0</td>\n",
              "      <td>P8B</td>\n",
              "    </tr>\n",
              "  </tbody>\n",
              "</table>\n",
              "</div>\n",
              "      <button class=\"colab-df-convert\" onclick=\"convertToInteractive('df-e6b8ca70-f138-432c-b687-0e05914da1a3')\"\n",
              "              title=\"Convert this dataframe to an interactive table.\"\n",
              "              style=\"display:none;\">\n",
              "        \n",
              "  <svg xmlns=\"http://www.w3.org/2000/svg\" height=\"24px\"viewBox=\"0 0 24 24\"\n",
              "       width=\"24px\">\n",
              "    <path d=\"M0 0h24v24H0V0z\" fill=\"none\"/>\n",
              "    <path d=\"M18.56 5.44l.94 2.06.94-2.06 2.06-.94-2.06-.94-.94-2.06-.94 2.06-2.06.94zm-11 1L8.5 8.5l.94-2.06 2.06-.94-2.06-.94L8.5 2.5l-.94 2.06-2.06.94zm10 10l.94 2.06.94-2.06 2.06-.94-2.06-.94-.94-2.06-.94 2.06-2.06.94z\"/><path d=\"M17.41 7.96l-1.37-1.37c-.4-.4-.92-.59-1.43-.59-.52 0-1.04.2-1.43.59L10.3 9.45l-7.72 7.72c-.78.78-.78 2.05 0 2.83L4 21.41c.39.39.9.59 1.41.59.51 0 1.02-.2 1.41-.59l7.78-7.78 2.81-2.81c.8-.78.8-2.07 0-2.86zM5.41 20L4 18.59l7.72-7.72 1.47 1.35L5.41 20z\"/>\n",
              "  </svg>\n",
              "      </button>\n",
              "      \n",
              "  <style>\n",
              "    .colab-df-container {\n",
              "      display:flex;\n",
              "      flex-wrap:wrap;\n",
              "      gap: 12px;\n",
              "    }\n",
              "\n",
              "    .colab-df-convert {\n",
              "      background-color: #E8F0FE;\n",
              "      border: none;\n",
              "      border-radius: 50%;\n",
              "      cursor: pointer;\n",
              "      display: none;\n",
              "      fill: #1967D2;\n",
              "      height: 32px;\n",
              "      padding: 0 0 0 0;\n",
              "      width: 32px;\n",
              "    }\n",
              "\n",
              "    .colab-df-convert:hover {\n",
              "      background-color: #E2EBFA;\n",
              "      box-shadow: 0px 1px 2px rgba(60, 64, 67, 0.3), 0px 1px 3px 1px rgba(60, 64, 67, 0.15);\n",
              "      fill: #174EA6;\n",
              "    }\n",
              "\n",
              "    [theme=dark] .colab-df-convert {\n",
              "      background-color: #3B4455;\n",
              "      fill: #D2E3FC;\n",
              "    }\n",
              "\n",
              "    [theme=dark] .colab-df-convert:hover {\n",
              "      background-color: #434B5C;\n",
              "      box-shadow: 0px 1px 3px 1px rgba(0, 0, 0, 0.15);\n",
              "      filter: drop-shadow(0px 1px 2px rgba(0, 0, 0, 0.3));\n",
              "      fill: #FFFFFF;\n",
              "    }\n",
              "  </style>\n",
              "\n",
              "      <script>\n",
              "        const buttonEl =\n",
              "          document.querySelector('#df-e6b8ca70-f138-432c-b687-0e05914da1a3 button.colab-df-convert');\n",
              "        buttonEl.style.display =\n",
              "          google.colab.kernel.accessAllowed ? 'block' : 'none';\n",
              "\n",
              "        async function convertToInteractive(key) {\n",
              "          const element = document.querySelector('#df-e6b8ca70-f138-432c-b687-0e05914da1a3');\n",
              "          const dataTable =\n",
              "            await google.colab.kernel.invokeFunction('convertToInteractive',\n",
              "                                                     [key], {});\n",
              "          if (!dataTable) return;\n",
              "\n",
              "          const docLinkHtml = 'Like what you see? Visit the ' +\n",
              "            '<a target=\"_blank\" href=https://colab.research.google.com/notebooks/data_table.ipynb>data table notebook</a>'\n",
              "            + ' to learn more about interactive tables.';\n",
              "          element.innerHTML = '';\n",
              "          dataTable['output_type'] = 'display_data';\n",
              "          await google.colab.output.renderOutput(dataTable, element);\n",
              "          const docLink = document.createElement('div');\n",
              "          docLink.innerHTML = docLinkHtml;\n",
              "          element.appendChild(docLink);\n",
              "        }\n",
              "      </script>\n",
              "    </div>\n",
              "  </div>\n",
              "  "
            ]
          },
          "metadata": {},
          "execution_count": 25
        }
      ]
    },
    {
      "cell_type": "markdown",
      "source": [
        "#DSCVR\n",
        "Viento solar\n",
        "[DSCVER data](https://www.swpc.noaa.gov/products/real-time-solar-wind) <br>"
      ],
      "metadata": {
        "id": "xD1rDNFfkL48"
      }
    },
    {
      "cell_type": "code",
      "source": [],
      "metadata": {
        "id": "1Zbc6cufk8H6"
      },
      "execution_count": null,
      "outputs": []
    },
    {
      "cell_type": "markdown",
      "source": [
        "#Espacio para comentarios y sufrir en conjunto"
      ],
      "metadata": {
        "id": "Lx7PHYZHkrha"
      }
    },
    {
      "cell_type": "code",
      "source": [
        "#premio nobel o nada\n",
        "#XD"
      ],
      "metadata": {
        "id": "F1KdkKobjEdC"
      },
      "execution_count": null,
      "outputs": []
    },
    {
      "cell_type": "code",
      "source": [],
      "metadata": {
        "id": "KRN6pGPBjIUC"
      },
      "execution_count": null,
      "outputs": []
    }
  ]
}